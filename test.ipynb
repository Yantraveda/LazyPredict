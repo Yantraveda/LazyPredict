{
 "cells": [
  {
   "cell_type": "code",
   "execution_count": 5,
   "metadata": {},
   "outputs": [],
   "source": [
    "from Supervised import LazyClassifier"
   ]
  },
  {
   "cell_type": "code",
   "execution_count": 13,
   "metadata": {},
   "outputs": [],
   "source": [
    "from sklearn.datasets import load_breast_cancer\n",
    "from sklearn.model_selection import train_test_split\n",
    "data = load_breast_cancer()\n",
    "X = data.data\n",
    "y= data.target\n",
    "X_train, X_test, y_train, y_test = train_test_split(X, y,test_size=.5,random_state =123)"
   ]
  },
  {
   "cell_type": "code",
   "execution_count": 14,
   "metadata": {},
   "outputs": [],
   "source": [
    "clf = LazyClassifier(verbose=1,ignore_warnings=True, custom_metric=None)"
   ]
  },
  {
   "cell_type": "code",
   "execution_count": 15,
   "metadata": {},
   "outputs": [
    {
     "name": "stderr",
     "output_type": "stream",
     "text": [
      "  3%|▎         | 1/29 [00:01<00:29,  1.06s/it]"
     ]
    },
    {
     "name": "stdout",
     "output_type": "stream",
     "text": [
      "{'Model': 'AdaBoostClassifier', 'Accuracy': 0.9614035087719298, 'Balanced Accuracy': 0.9592446388562894, 'ROC AUC': 0.9592446388562894, 'F1 Score': 0.9614435738005532, 'Time taken': 1.0624940395355225}\n"
     ]
    },
    {
     "name": "stderr",
     "output_type": "stream",
     "text": [
      "  7%|▋         | 2/29 [00:01<00:18,  1.46it/s]"
     ]
    },
    {
     "name": "stdout",
     "output_type": "stream",
     "text": [
      "{'Model': 'BaggingClassifier', 'Accuracy': 0.9719298245614035, 'Balanced Accuracy': 0.9738077456524059, 'ROC AUC': 0.9738077456524059, 'F1 Score': 0.9720412141464773, 'Time taken': 0.41854238510131836}\n",
      "{'Model': 'BernoulliNB', 'Accuracy': 0.9508771929824561, 'Balanced Accuracy': 0.9510028806145311, 'ROC AUC': 0.9510028806145312, 'F1 Score': 0.9510721247563353, 'Time taken': 0.08899450302124023}\n"
     ]
    },
    {
     "name": "stderr",
     "output_type": "stream",
     "text": [
      " 14%|█▍        | 4/29 [00:01<00:10,  2.47it/s]"
     ]
    },
    {
     "name": "stdout",
     "output_type": "stream",
     "text": [
      "{'Model': 'CalibratedClassifierCV', 'Accuracy': 0.9789473684210527, 'Balanced Accuracy': 0.970873786407767, 'ROC AUC': 0.970873786407767, 'F1 Score': 0.9788022759601707, 'Time taken': 0.3832850456237793}\n",
      "{'Model': 'DecisionTreeClassifier', 'Accuracy': 0.9298245614035088, 'Balanced Accuracy': 0.9281980155766564, 'ROC AUC': 0.9281980155766565, 'F1 Score': 0.9301030353661932, 'Time taken': 0.12100863456726074}\n"
     ]
    },
    {
     "name": "stderr",
     "output_type": "stream",
     "text": [
      " 24%|██▍       | 7/29 [00:02<00:04,  4.41it/s]"
     ]
    },
    {
     "name": "stdout",
     "output_type": "stream",
     "text": [
      "{'Model': 'DummyClassifier', 'Accuracy': 0.6385964912280702, 'Balanced Accuracy': 0.5, 'ROC AUC': 0.5, 'F1 Score': 0.4977497276381532, 'Time taken': 0.1175527572631836}\n",
      "{'Model': 'ExtraTreeClassifier', 'Accuracy': 0.9438596491228071, 'Balanced Accuracy': 0.9349727941960952, 'ROC AUC': 0.9349727941960952, 'F1 Score': 0.9436089146672104, 'Time taken': 0.12298154830932617}\n"
     ]
    },
    {
     "name": "stderr",
     "output_type": "stream",
     "text": [
      " 31%|███       | 9/29 [00:03<00:11,  1.77it/s]"
     ]
    },
    {
     "name": "stdout",
     "output_type": "stream",
     "text": [
      "{'Model': 'ExtraTreesClassifier', 'Accuracy': 0.968421052631579, 'Balanced Accuracy': 0.9647391443507949, 'ROC AUC': 0.9647391443507949, 'F1 Score': 0.9683872896407407, 'Time taken': 1.4825310707092285}\n"
     ]
    },
    {
     "name": "stderr",
     "output_type": "stream",
     "text": [
      " 34%|███▍      | 10/29 [00:04<00:08,  2.14it/s]"
     ]
    },
    {
     "name": "stdout",
     "output_type": "stream",
     "text": [
      "{'Model': 'GaussianNB', 'Accuracy': 0.9543859649122807, 'Balanced Accuracy': 0.9495359009922117, 'ROC AUC': 0.9495359009922117, 'F1 Score': 0.9543371961477365, 'Time taken': 0.2140793800354004}\n"
     ]
    },
    {
     "name": "stderr",
     "output_type": "stream",
     "text": [
      " 38%|███▊      | 11/29 [00:04<00:08,  2.14it/s]"
     ]
    },
    {
     "name": "stdout",
     "output_type": "stream",
     "text": [
      "{'Model': 'KNeighborsClassifier', 'Accuracy': 0.9614035087719298, 'Balanced Accuracy': 0.9550304064867172, 'ROC AUC': 0.9550304064867172, 'F1 Score': 0.9612760643504843, 'Time taken': 0.4643409252166748}\n"
     ]
    },
    {
     "name": "stderr",
     "output_type": "stream",
     "text": [
      " 41%|████▏     | 12/29 [00:04<00:06,  2.50it/s]"
     ]
    },
    {
     "name": "stdout",
     "output_type": "stream",
     "text": [
      "{'Model': 'LabelPropagation', 'Accuracy': 0.9754385964912281, 'Balanced Accuracy': 0.9744478822148726, 'ROC AUC': 0.9744478822148726, 'F1 Score': 0.9754640924185338, 'Time taken': 0.2325277328491211}\n"
     ]
    },
    {
     "name": "stderr",
     "output_type": "stream",
     "text": [
      " 45%|████▍     | 13/29 [00:05<00:05,  2.82it/s]"
     ]
    },
    {
     "name": "stdout",
     "output_type": "stream",
     "text": [
      "{'Model': 'LabelSpreading', 'Accuracy': 0.9754385964912281, 'Balanced Accuracy': 0.9744478822148726, 'ROC AUC': 0.9744478822148726, 'F1 Score': 0.9754640924185338, 'Time taken': 0.23705792427062988}\n",
      "{'Model': 'LinearDiscriminantAnalysis', 'Accuracy': 0.9614035087719298, 'Balanced Accuracy': 0.950816174117145, 'ROC AUC': 0.9508161741171451, 'F1 Score': 0.9610887938534114, 'Time taken': 0.07800126075744629}\n",
      "{'Model': 'LinearSVC', 'Accuracy': 0.9894736842105263, 'Balanced Accuracy': 0.9875440093886696, 'ROC AUC': 0.9875440093886696, 'F1 Score': 0.9894624298802469, 'Time taken': 0.1009981632232666}\n"
     ]
    },
    {
     "name": "stderr",
     "output_type": "stream",
     "text": [
      " 55%|█████▌    | 16/29 [00:05<00:02,  4.51it/s]"
     ]
    },
    {
     "name": "stdout",
     "output_type": "stream",
     "text": [
      "{'Model': 'LogisticRegression', 'Accuracy': 0.9859649122807017, 'Balanced Accuracy': 0.9826896404566308, 'ROC AUC': 0.9826896404566308, 'F1 Score': 0.985934460065303, 'Time taken': 0.18199872970581055}\n"
     ]
    },
    {
     "name": "stderr",
     "output_type": "stream",
     "text": [
      " 62%|██████▏   | 18/29 [00:06<00:03,  3.51it/s]"
     ]
    },
    {
     "name": "stdout",
     "output_type": "stream",
     "text": [
      "{'Model': 'NearestCentroid', 'Accuracy': 0.9473684210526315, 'Balanced Accuracy': 0.9335058145737758, 'ROC AUC': 0.9335058145737758, 'F1 Score': 0.9468011422931384, 'Time taken': 0.6030929088592529}\n",
      "{'Model': 'NuSVC', 'Accuracy': 0.9543859649122807, 'Balanced Accuracy': 0.9432145524378535, 'ROC AUC': 0.9432145524378535, 'F1 Score': 0.9540140290994862, 'Time taken': 0.17851996421813965}\n"
     ]
    },
    {
     "name": "stderr",
     "output_type": "stream",
     "text": [
      " 69%|██████▉   | 20/29 [00:06<00:01,  5.09it/s]"
     ]
    },
    {
     "name": "stdout",
     "output_type": "stream",
     "text": [
      "{'Model': 'PassiveAggressiveClassifier', 'Accuracy': 0.9789473684210527, 'Balanced Accuracy': 0.9729809025925531, 'ROC AUC': 0.9729809025925531, 'F1 Score': 0.978853343000204, 'Time taken': 0.059995174407958984}\n",
      "{'Model': 'Perceptron', 'Accuracy': 0.9859649122807017, 'Balanced Accuracy': 0.9847967566414169, 'ROC AUC': 0.9847967566414169, 'F1 Score': 0.9859649122807017, 'Time taken': 0.09900331497192383}\n",
      "{'Model': 'QuadraticDiscriminantAnalysis', 'Accuracy': 0.9649122807017544, 'Balanced Accuracy': 0.9662061239731143, 'ROC AUC': 0.9662061239731143, 'F1 Score': 0.9650515176830966, 'Time taken': 0.08100104331970215}\n"
     ]
    },
    {
     "name": "stderr",
     "output_type": "stream",
     "text": [
      " 76%|███████▌  | 22/29 [00:08<00:02,  2.36it/s]"
     ]
    },
    {
     "name": "stdout",
     "output_type": "stream",
     "text": [
      "{'Model': 'RandomForestClassifier', 'Accuracy': 0.9719298245614035, 'Balanced Accuracy': 0.9717006294676198, 'ROC AUC': 0.9717006294676198, 'F1 Score': 0.9719872354068341, 'Time taken': 1.4931237697601318}\n",
      "{'Model': 'RidgeClassifier', 'Accuracy': 0.968421052631579, 'Balanced Accuracy': 0.9605249119812227, 'ROC AUC': 0.9605249119812227, 'F1 Score': 0.9682422291622761, 'Time taken': 0.06800055503845215}\n"
     ]
    },
    {
     "name": "stderr",
     "output_type": "stream",
     "text": [
      " 86%|████████▌ | 25/29 [00:08<00:01,  3.58it/s]"
     ]
    },
    {
     "name": "stdout",
     "output_type": "stream",
     "text": [
      "{'Model': 'RidgeClassifierCV', 'Accuracy': 0.9719298245614035, 'Balanced Accuracy': 0.9632721647284754, 'ROC AUC': 0.9632721647284754, 'F1 Score': 0.9717363679468941, 'Time taken': 0.16543865203857422}\n",
      "{'Model': 'SGDClassifier', 'Accuracy': 0.9754385964912281, 'Balanced Accuracy': 0.9723407660300865, 'ROC AUC': 0.9723407660300865, 'F1 Score': 0.9754123363872427, 'Time taken': 0.13313508033752441}\n"
     ]
    },
    {
     "name": "stderr",
     "output_type": "stream",
     "text": [
      " 90%|████████▉ | 26/29 [00:08<00:00,  3.89it/s]"
     ]
    },
    {
     "name": "stdout",
     "output_type": "stream",
     "text": [
      "{'Model': 'SVC', 'Accuracy': 0.9824561403508771, 'Balanced Accuracy': 0.979942387709378, 'ROC AUC': 0.9799423877093781, 'F1 Score': 0.9824373831337447, 'Time taken': 0.16961097717285156}\n"
     ]
    },
    {
     "name": "stderr",
     "output_type": "stream",
     "text": [
      " 97%|█████████▋| 28/29 [00:09<00:00,  2.87it/s]"
     ]
    },
    {
     "name": "stdout",
     "output_type": "stream",
     "text": [
      "{'Model': 'XGBClassifier', 'Accuracy': 0.9789473684210527, 'Balanced Accuracy': 0.9793022511469114, 'ROC AUC': 0.9793022511469114, 'F1 Score': 0.9789904265551256, 'Time taken': 0.9780075550079346}\n"
     ]
    },
    {
     "name": "stderr",
     "output_type": "stream",
     "text": [
      "100%|██████████| 29/29 [00:10<00:00,  2.85it/s]"
     ]
    },
    {
     "name": "stdout",
     "output_type": "stream",
     "text": [
      "{'Model': 'LGBMClassifier', 'Accuracy': 0.968421052631579, 'Balanced Accuracy': 0.966846260535581, 'ROC AUC': 0.966846260535581, 'F1 Score': 0.9684538331095434, 'Time taken': 0.6080012321472168}\n"
     ]
    },
    {
     "name": "stderr",
     "output_type": "stream",
     "text": [
      "\n"
     ]
    }
   ],
   "source": [
    "models,predictions = clf.fit(X_train, X_test, y_train, y_test)"
   ]
  },
  {
   "cell_type": "code",
   "execution_count": null,
   "metadata": {},
   "outputs": [],
   "source": []
  },
  {
   "cell_type": "code",
   "execution_count": 16,
   "metadata": {},
   "outputs": [
    {
     "data": {
      "text/html": [
       "<div>\n",
       "<style scoped>\n",
       "    .dataframe tbody tr th:only-of-type {\n",
       "        vertical-align: middle;\n",
       "    }\n",
       "\n",
       "    .dataframe tbody tr th {\n",
       "        vertical-align: top;\n",
       "    }\n",
       "\n",
       "    .dataframe thead th {\n",
       "        text-align: right;\n",
       "    }\n",
       "</style>\n",
       "<table border=\"1\" class=\"dataframe\">\n",
       "  <thead>\n",
       "    <tr style=\"text-align: right;\">\n",
       "      <th></th>\n",
       "      <th>Accuracy</th>\n",
       "      <th>Balanced Accuracy</th>\n",
       "      <th>ROC AUC</th>\n",
       "      <th>F1 Score</th>\n",
       "      <th>Time Taken</th>\n",
       "    </tr>\n",
       "    <tr>\n",
       "      <th>Model</th>\n",
       "      <th></th>\n",
       "      <th></th>\n",
       "      <th></th>\n",
       "      <th></th>\n",
       "      <th></th>\n",
       "    </tr>\n",
       "  </thead>\n",
       "  <tbody>\n",
       "    <tr>\n",
       "      <th>LinearSVC</th>\n",
       "      <td>0.99</td>\n",
       "      <td>0.99</td>\n",
       "      <td>0.99</td>\n",
       "      <td>0.99</td>\n",
       "      <td>0.10</td>\n",
       "    </tr>\n",
       "    <tr>\n",
       "      <th>Perceptron</th>\n",
       "      <td>0.99</td>\n",
       "      <td>0.98</td>\n",
       "      <td>0.98</td>\n",
       "      <td>0.99</td>\n",
       "      <td>0.10</td>\n",
       "    </tr>\n",
       "    <tr>\n",
       "      <th>LogisticRegression</th>\n",
       "      <td>0.99</td>\n",
       "      <td>0.98</td>\n",
       "      <td>0.98</td>\n",
       "      <td>0.99</td>\n",
       "      <td>0.18</td>\n",
       "    </tr>\n",
       "    <tr>\n",
       "      <th>SVC</th>\n",
       "      <td>0.98</td>\n",
       "      <td>0.98</td>\n",
       "      <td>0.98</td>\n",
       "      <td>0.98</td>\n",
       "      <td>0.17</td>\n",
       "    </tr>\n",
       "    <tr>\n",
       "      <th>XGBClassifier</th>\n",
       "      <td>0.98</td>\n",
       "      <td>0.98</td>\n",
       "      <td>0.98</td>\n",
       "      <td>0.98</td>\n",
       "      <td>0.98</td>\n",
       "    </tr>\n",
       "    <tr>\n",
       "      <th>LabelPropagation</th>\n",
       "      <td>0.98</td>\n",
       "      <td>0.97</td>\n",
       "      <td>0.97</td>\n",
       "      <td>0.98</td>\n",
       "      <td>0.23</td>\n",
       "    </tr>\n",
       "    <tr>\n",
       "      <th>LabelSpreading</th>\n",
       "      <td>0.98</td>\n",
       "      <td>0.97</td>\n",
       "      <td>0.97</td>\n",
       "      <td>0.98</td>\n",
       "      <td>0.24</td>\n",
       "    </tr>\n",
       "    <tr>\n",
       "      <th>BaggingClassifier</th>\n",
       "      <td>0.97</td>\n",
       "      <td>0.97</td>\n",
       "      <td>0.97</td>\n",
       "      <td>0.97</td>\n",
       "      <td>0.42</td>\n",
       "    </tr>\n",
       "    <tr>\n",
       "      <th>PassiveAggressiveClassifier</th>\n",
       "      <td>0.98</td>\n",
       "      <td>0.97</td>\n",
       "      <td>0.97</td>\n",
       "      <td>0.98</td>\n",
       "      <td>0.06</td>\n",
       "    </tr>\n",
       "    <tr>\n",
       "      <th>SGDClassifier</th>\n",
       "      <td>0.98</td>\n",
       "      <td>0.97</td>\n",
       "      <td>0.97</td>\n",
       "      <td>0.98</td>\n",
       "      <td>0.13</td>\n",
       "    </tr>\n",
       "    <tr>\n",
       "      <th>RandomForestClassifier</th>\n",
       "      <td>0.97</td>\n",
       "      <td>0.97</td>\n",
       "      <td>0.97</td>\n",
       "      <td>0.97</td>\n",
       "      <td>1.49</td>\n",
       "    </tr>\n",
       "    <tr>\n",
       "      <th>CalibratedClassifierCV</th>\n",
       "      <td>0.98</td>\n",
       "      <td>0.97</td>\n",
       "      <td>0.97</td>\n",
       "      <td>0.98</td>\n",
       "      <td>0.38</td>\n",
       "    </tr>\n",
       "    <tr>\n",
       "      <th>LGBMClassifier</th>\n",
       "      <td>0.97</td>\n",
       "      <td>0.97</td>\n",
       "      <td>0.97</td>\n",
       "      <td>0.97</td>\n",
       "      <td>0.61</td>\n",
       "    </tr>\n",
       "    <tr>\n",
       "      <th>QuadraticDiscriminantAnalysis</th>\n",
       "      <td>0.96</td>\n",
       "      <td>0.97</td>\n",
       "      <td>0.97</td>\n",
       "      <td>0.97</td>\n",
       "      <td>0.08</td>\n",
       "    </tr>\n",
       "    <tr>\n",
       "      <th>ExtraTreesClassifier</th>\n",
       "      <td>0.97</td>\n",
       "      <td>0.96</td>\n",
       "      <td>0.96</td>\n",
       "      <td>0.97</td>\n",
       "      <td>1.48</td>\n",
       "    </tr>\n",
       "    <tr>\n",
       "      <th>RidgeClassifierCV</th>\n",
       "      <td>0.97</td>\n",
       "      <td>0.96</td>\n",
       "      <td>0.96</td>\n",
       "      <td>0.97</td>\n",
       "      <td>0.17</td>\n",
       "    </tr>\n",
       "    <tr>\n",
       "      <th>RidgeClassifier</th>\n",
       "      <td>0.97</td>\n",
       "      <td>0.96</td>\n",
       "      <td>0.96</td>\n",
       "      <td>0.97</td>\n",
       "      <td>0.07</td>\n",
       "    </tr>\n",
       "    <tr>\n",
       "      <th>AdaBoostClassifier</th>\n",
       "      <td>0.96</td>\n",
       "      <td>0.96</td>\n",
       "      <td>0.96</td>\n",
       "      <td>0.96</td>\n",
       "      <td>1.06</td>\n",
       "    </tr>\n",
       "    <tr>\n",
       "      <th>KNeighborsClassifier</th>\n",
       "      <td>0.96</td>\n",
       "      <td>0.96</td>\n",
       "      <td>0.96</td>\n",
       "      <td>0.96</td>\n",
       "      <td>0.46</td>\n",
       "    </tr>\n",
       "    <tr>\n",
       "      <th>BernoulliNB</th>\n",
       "      <td>0.95</td>\n",
       "      <td>0.95</td>\n",
       "      <td>0.95</td>\n",
       "      <td>0.95</td>\n",
       "      <td>0.09</td>\n",
       "    </tr>\n",
       "    <tr>\n",
       "      <th>LinearDiscriminantAnalysis</th>\n",
       "      <td>0.96</td>\n",
       "      <td>0.95</td>\n",
       "      <td>0.95</td>\n",
       "      <td>0.96</td>\n",
       "      <td>0.08</td>\n",
       "    </tr>\n",
       "    <tr>\n",
       "      <th>GaussianNB</th>\n",
       "      <td>0.95</td>\n",
       "      <td>0.95</td>\n",
       "      <td>0.95</td>\n",
       "      <td>0.95</td>\n",
       "      <td>0.21</td>\n",
       "    </tr>\n",
       "    <tr>\n",
       "      <th>NuSVC</th>\n",
       "      <td>0.95</td>\n",
       "      <td>0.94</td>\n",
       "      <td>0.94</td>\n",
       "      <td>0.95</td>\n",
       "      <td>0.18</td>\n",
       "    </tr>\n",
       "    <tr>\n",
       "      <th>ExtraTreeClassifier</th>\n",
       "      <td>0.94</td>\n",
       "      <td>0.93</td>\n",
       "      <td>0.93</td>\n",
       "      <td>0.94</td>\n",
       "      <td>0.12</td>\n",
       "    </tr>\n",
       "    <tr>\n",
       "      <th>NearestCentroid</th>\n",
       "      <td>0.95</td>\n",
       "      <td>0.93</td>\n",
       "      <td>0.93</td>\n",
       "      <td>0.95</td>\n",
       "      <td>0.60</td>\n",
       "    </tr>\n",
       "    <tr>\n",
       "      <th>DecisionTreeClassifier</th>\n",
       "      <td>0.93</td>\n",
       "      <td>0.93</td>\n",
       "      <td>0.93</td>\n",
       "      <td>0.93</td>\n",
       "      <td>0.12</td>\n",
       "    </tr>\n",
       "    <tr>\n",
       "      <th>DummyClassifier</th>\n",
       "      <td>0.64</td>\n",
       "      <td>0.50</td>\n",
       "      <td>0.50</td>\n",
       "      <td>0.50</td>\n",
       "      <td>0.12</td>\n",
       "    </tr>\n",
       "  </tbody>\n",
       "</table>\n",
       "</div>"
      ],
      "text/plain": [
       "                               Accuracy  Balanced Accuracy  ROC AUC  F1 Score  \\\n",
       "Model                                                                           \n",
       "LinearSVC                          0.99               0.99     0.99      0.99   \n",
       "Perceptron                         0.99               0.98     0.98      0.99   \n",
       "LogisticRegression                 0.99               0.98     0.98      0.99   \n",
       "SVC                                0.98               0.98     0.98      0.98   \n",
       "XGBClassifier                      0.98               0.98     0.98      0.98   \n",
       "LabelPropagation                   0.98               0.97     0.97      0.98   \n",
       "LabelSpreading                     0.98               0.97     0.97      0.98   \n",
       "BaggingClassifier                  0.97               0.97     0.97      0.97   \n",
       "PassiveAggressiveClassifier        0.98               0.97     0.97      0.98   \n",
       "SGDClassifier                      0.98               0.97     0.97      0.98   \n",
       "RandomForestClassifier             0.97               0.97     0.97      0.97   \n",
       "CalibratedClassifierCV             0.98               0.97     0.97      0.98   \n",
       "LGBMClassifier                     0.97               0.97     0.97      0.97   \n",
       "QuadraticDiscriminantAnalysis      0.96               0.97     0.97      0.97   \n",
       "ExtraTreesClassifier               0.97               0.96     0.96      0.97   \n",
       "RidgeClassifierCV                  0.97               0.96     0.96      0.97   \n",
       "RidgeClassifier                    0.97               0.96     0.96      0.97   \n",
       "AdaBoostClassifier                 0.96               0.96     0.96      0.96   \n",
       "KNeighborsClassifier               0.96               0.96     0.96      0.96   \n",
       "BernoulliNB                        0.95               0.95     0.95      0.95   \n",
       "LinearDiscriminantAnalysis         0.96               0.95     0.95      0.96   \n",
       "GaussianNB                         0.95               0.95     0.95      0.95   \n",
       "NuSVC                              0.95               0.94     0.94      0.95   \n",
       "ExtraTreeClassifier                0.94               0.93     0.93      0.94   \n",
       "NearestCentroid                    0.95               0.93     0.93      0.95   \n",
       "DecisionTreeClassifier             0.93               0.93     0.93      0.93   \n",
       "DummyClassifier                    0.64               0.50     0.50      0.50   \n",
       "\n",
       "                               Time Taken  \n",
       "Model                                      \n",
       "LinearSVC                            0.10  \n",
       "Perceptron                           0.10  \n",
       "LogisticRegression                   0.18  \n",
       "SVC                                  0.17  \n",
       "XGBClassifier                        0.98  \n",
       "LabelPropagation                     0.23  \n",
       "LabelSpreading                       0.24  \n",
       "BaggingClassifier                    0.42  \n",
       "PassiveAggressiveClassifier          0.06  \n",
       "SGDClassifier                        0.13  \n",
       "RandomForestClassifier               1.49  \n",
       "CalibratedClassifierCV               0.38  \n",
       "LGBMClassifier                       0.61  \n",
       "QuadraticDiscriminantAnalysis        0.08  \n",
       "ExtraTreesClassifier                 1.48  \n",
       "RidgeClassifierCV                    0.17  \n",
       "RidgeClassifier                      0.07  \n",
       "AdaBoostClassifier                   1.06  \n",
       "KNeighborsClassifier                 0.46  \n",
       "BernoulliNB                          0.09  \n",
       "LinearDiscriminantAnalysis           0.08  \n",
       "GaussianNB                           0.21  \n",
       "NuSVC                                0.18  \n",
       "ExtraTreeClassifier                  0.12  \n",
       "NearestCentroid                      0.60  \n",
       "DecisionTreeClassifier               0.12  \n",
       "DummyClassifier                      0.12  "
      ]
     },
     "execution_count": 16,
     "metadata": {},
     "output_type": "execute_result"
    }
   ],
   "source": [
    "models"
   ]
  },
  {
   "cell_type": "code",
   "execution_count": null,
   "metadata": {},
   "outputs": [],
   "source": []
  }
 ],
 "metadata": {
  "kernelspec": {
   "display_name": "Python 3",
   "language": "python",
   "name": "python3"
  },
  "language_info": {
   "codemirror_mode": {
    "name": "ipython",
    "version": 3
   },
   "file_extension": ".py",
   "mimetype": "text/x-python",
   "name": "python",
   "nbconvert_exporter": "python",
   "pygments_lexer": "ipython3",
   "version": "3.8.15"
  },
  "orig_nbformat": 4,
  "vscode": {
   "interpreter": {
    "hash": "b8c589d6e72861f1a6c62d4983c8c39bf42fa4c9b780d7e3f17054929f46528a"
   }
  }
 },
 "nbformat": 4,
 "nbformat_minor": 2
}
